{
 "cells": [
  {
   "cell_type": "code",
   "execution_count": 1,
   "id": "e2de00d4",
   "metadata": {},
   "outputs": [],
   "source": [
    "from interp_embed import Dataset\n",
    "from interp_embed.saes import GoodfireSAE\n",
    "from functions import diff_features, find_correlations\n",
    "import pandas as pd"
   ]
  },
  {
   "cell_type": "markdown",
   "id": "d6f9983a",
   "metadata": {},
   "source": [
    "### Diffing"
   ]
  },
  {
   "cell_type": "code",
   "execution_count": 2,
   "id": "e83df753",
   "metadata": {},
   "outputs": [
    {
     "name": "stdout",
     "output_type": "stream",
     "text": [
      "Found 3 rows with empty or incomplete feature activations\n"
     ]
    },
    {
     "data": {
      "application/vnd.jupyter.widget-view+json": {
       "model_id": "eb809e8c8d6743e6942f0dcadf74242d",
       "version_major": 2,
       "version_minor": 0
      },
      "text/plain": [
       "Loading checkpoint shards:   0%|          | 0/4 [00:00<?, ?it/s]"
      ]
     },
     "metadata": {},
     "output_type": "display_data"
    },
    {
     "data": {
      "application/vnd.jupyter.widget-view+json": {
       "model_id": "c43ff8cf540e436385ff3a4905d24bad",
       "version_major": 2,
       "version_minor": 0
      },
      "text/plain": [
       "Computing latents:   0%|          | 0/1 [00:00<?, ?it/s]"
      ]
     },
     "metadata": {},
     "output_type": "display_data"
    },
    {
     "name": "stdout",
     "output_type": "stream",
     "text": [
      "Found 3 rows with empty or incomplete feature activations\n"
     ]
    },
    {
     "data": {
      "application/vnd.jupyter.widget-view+json": {
       "model_id": "bb7e5d62a6a94f699f5bad82e4e62ff1",
       "version_major": 2,
       "version_minor": 0
      },
      "text/plain": [
       "Loading checkpoint shards:   0%|          | 0/4 [00:00<?, ?it/s]"
      ]
     },
     "metadata": {},
     "output_type": "display_data"
    },
    {
     "data": {
      "application/vnd.jupyter.widget-view+json": {
       "model_id": "ec99cf8737714d43a978cc62d3acdbbb",
       "version_major": 2,
       "version_minor": 0
      },
      "text/plain": [
       "Computing latents:   0%|          | 0/1 [00:00<?, ?it/s]"
      ]
     },
     "metadata": {},
     "output_type": "display_data"
    }
   ],
   "source": [
    "# 1. Load a Goodfire SAE or SAE supported through the SAELens package\n",
    "sae = GoodfireSAE(\n",
    "    variant_name=\"Llama-3.1-8B-Instruct-SAE-l19\",  # or \"Llama-3.3-70B-Instruct-SAE-l50\" for higher quality features\n",
    "    device=\"cuda:0\", # optional\n",
    ")\n",
    "\n",
    "# 2. Prepare your data as a DataFrame\n",
    "df1 = pd.DataFrame({\n",
    "    \"text\": [\"Good morning!\", \"Hello there!\", \"Good afternoon.\"],\n",
    "    \"date\": [\"2022-01-10\", \"2021-08-23\", \"2023-03-14\"] # Metadata column\n",
    "})\n",
    "\n",
    "# 2. Prepare your data as a DataFrame\n",
    "df2 = pd.DataFrame({\n",
    "    \"text\": [\"See you later!\", \"Goodbye!\", \"Goodbye.\"],\n",
    "    \"date\": [\"2022-01-10\", \"2021-08-23\", \"2023-03-14\"] # Metadata column\n",
    "})\n",
    "\n",
    "# 3. Create dataset - computes and saves feature activations\n",
    "dataset1 = Dataset(\n",
    "    data=df1,\n",
    "    sae=sae,\n",
    ")\n",
    "\n",
    "dataset2 = Dataset(\n",
    "    data=df2,\n",
    "    sae=sae,\n",
    ")\n"
   ]
  },
  {
   "cell_type": "code",
   "execution_count": 3,
   "id": "3452432e",
   "metadata": {},
   "outputs": [
    {
     "data": {
      "text/html": [
       "<div>\n",
       "<style scoped>\n",
       "    .dataframe tbody tr th:only-of-type {\n",
       "        vertical-align: middle;\n",
       "    }\n",
       "\n",
       "    .dataframe tbody tr th {\n",
       "        vertical-align: top;\n",
       "    }\n",
       "\n",
       "    .dataframe thead th {\n",
       "        text-align: right;\n",
       "    }\n",
       "</style>\n",
       "<table border=\"1\" class=\"dataframe\">\n",
       "  <thead>\n",
       "    <tr style=\"text-align: right;\">\n",
       "      <th></th>\n",
       "      <th>feature</th>\n",
       "      <th>feature_id</th>\n",
       "      <th>bcd9f4</th>\n",
       "      <th>46751c</th>\n",
       "      <th>frequency_difference</th>\n",
       "    </tr>\n",
       "  </thead>\n",
       "  <tbody>\n",
       "    <tr>\n",
       "      <th>0</th>\n",
       "      <td>End of message token in chat format</td>\n",
       "      <td>51649</td>\n",
       "      <td>1.000000</td>\n",
       "      <td>0.0</td>\n",
       "      <td>1.000000</td>\n",
       "    </tr>\n",
       "    <tr>\n",
       "      <th>1</th>\n",
       "      <td>Assistant's initial greeting response at start...</td>\n",
       "      <td>65478</td>\n",
       "      <td>1.000000</td>\n",
       "      <td>0.0</td>\n",
       "      <td>1.000000</td>\n",
       "    </tr>\n",
       "    <tr>\n",
       "      <th>2</th>\n",
       "      <td>Conversation reset or context switch marker</td>\n",
       "      <td>13472</td>\n",
       "      <td>0.666667</td>\n",
       "      <td>0.0</td>\n",
       "      <td>0.666667</td>\n",
       "    </tr>\n",
       "    <tr>\n",
       "      <th>3</th>\n",
       "      <td>The assistant is providing a list of options o...</td>\n",
       "      <td>18059</td>\n",
       "      <td>0.666667</td>\n",
       "      <td>0.0</td>\n",
       "      <td>0.666667</td>\n",
       "    </tr>\n",
       "    <tr>\n",
       "      <th>4</th>\n",
       "      <td>Message boundary tokens in chat format</td>\n",
       "      <td>21449</td>\n",
       "      <td>0.666667</td>\n",
       "      <td>0.0</td>\n",
       "      <td>0.666667</td>\n",
       "    </tr>\n",
       "  </tbody>\n",
       "</table>\n",
       "</div>"
      ],
      "text/plain": [
       "                                             feature  feature_id    bcd9f4  \\\n",
       "0                End of message token in chat format       51649  1.000000   \n",
       "1  Assistant's initial greeting response at start...       65478  1.000000   \n",
       "2        Conversation reset or context switch marker       13472  0.666667   \n",
       "3  The assistant is providing a list of options o...       18059  0.666667   \n",
       "4             Message boundary tokens in chat format       21449  0.666667   \n",
       "\n",
       "   46751c  frequency_difference  \n",
       "0     0.0              1.000000  \n",
       "1     0.0              1.000000  \n",
       "2     0.0              0.666667  \n",
       "3     0.0              0.666667  \n",
       "4     0.0              0.666667  "
      ]
     },
     "execution_count": 3,
     "metadata": {},
     "output_type": "execute_result"
    }
   ],
   "source": [
    "freq = diff_features(dataset1, dataset2)\n",
    "\n",
    "freq.head()"
   ]
  },
  {
   "cell_type": "markdown",
   "id": "4f6ddf50",
   "metadata": {},
   "source": [
    "### Correlations"
   ]
  }
 ],
 "metadata": {
  "kernelspec": {
   "display_name": "Python (interp-embed)",
   "language": "python",
   "name": "interp-embed"
  },
  "language_info": {
   "codemirror_mode": {
    "name": "ipython",
    "version": 3
   },
   "file_extension": ".py",
   "mimetype": "text/x-python",
   "name": "python",
   "nbconvert_exporter": "python",
   "pygments_lexer": "ipython3",
   "version": "3.11.13"
  }
 },
 "nbformat": 4,
 "nbformat_minor": 5
}
